{
    "nbformat_minor": 1, 
    "cells": [
        {
            "source": "import pandas as pd # library for data analsysis\nimport numpy as np # library to handle data in a vectorized manner", 
            "cell_type": "code", 
            "metadata": {}, 
            "outputs": [], 
            "execution_count": 7
        }, 
        {
            "source": "\nimport types\nimport pandas as pd\nfrom botocore.client import Config\nimport ibm_boto3\n\ndef __iter__(self): return 0\n\n# @hidden_cell\n# The following code accesses a file in your IBM Cloud Object Storage. It includes your credentials.\n# You might want to remove those credentials before you share your notebook.\nclient_8b848afc4ad24531bd548279cdd15bdc = ibm_boto3.client(service_name='s3',\n    ibm_api_key_id='Mxss8mHanzwSiC67a2M58uj_kGxyQHr8JlidNERuOl3K',\n    ibm_auth_endpoint=\"https://iam.bluemix.net/oidc/token\",\n    config=Config(signature_version='oauth'),\n    endpoint_url='https://s3-api.us-geo.objectstorage.service.networklayer.com')\n\nbody = client_8b848afc4ad24531bd548279cdd15bdc.get_object(Bucket='thdproject-donotdelete-pr-cdoiv6lu8uixfh',Key='attributes.csv')['Body']\n# add missing __iter__ method, so pandas accepts body as file-like object\nif not hasattr(body, \"__iter__\"): body.__iter__ = types.MethodType( __iter__, body )\n\nattributes = pd.read_csv(body)\nattributes.head()\n\n", 
            "cell_type": "code", 
            "metadata": {}, 
            "outputs": [
                {
                    "output_type": "execute_result", 
                    "data": {
                        "text/plain": "   product_uid      name                                              value\n0     100001.0  Bullet01  Versatile connector for various 90\u00b0 connection...\n1     100001.0  Bullet02  Stronger than angled nailing or screw fastenin...\n2     100001.0  Bullet03  Help ensure joints are consistently straight a...\n3     100001.0  Bullet04              Dimensions: 3 in. x 3 in. x 1-1/2 in.\n4     100001.0  Bullet05                           Made from 12-Gauge steel", 
                        "text/html": "<div>\n<style scoped>\n    .dataframe tbody tr th:only-of-type {\n        vertical-align: middle;\n    }\n\n    .dataframe tbody tr th {\n        vertical-align: top;\n    }\n\n    .dataframe thead th {\n        text-align: right;\n    }\n</style>\n<table border=\"1\" class=\"dataframe\">\n  <thead>\n    <tr style=\"text-align: right;\">\n      <th></th>\n      <th>product_uid</th>\n      <th>name</th>\n      <th>value</th>\n    </tr>\n  </thead>\n  <tbody>\n    <tr>\n      <th>0</th>\n      <td>100001.0</td>\n      <td>Bullet01</td>\n      <td>Versatile connector for various 90\u00b0 connection...</td>\n    </tr>\n    <tr>\n      <th>1</th>\n      <td>100001.0</td>\n      <td>Bullet02</td>\n      <td>Stronger than angled nailing or screw fastenin...</td>\n    </tr>\n    <tr>\n      <th>2</th>\n      <td>100001.0</td>\n      <td>Bullet03</td>\n      <td>Help ensure joints are consistently straight a...</td>\n    </tr>\n    <tr>\n      <th>3</th>\n      <td>100001.0</td>\n      <td>Bullet04</td>\n      <td>Dimensions: 3 in. x 3 in. x 1-1/2 in.</td>\n    </tr>\n    <tr>\n      <th>4</th>\n      <td>100001.0</td>\n      <td>Bullet05</td>\n      <td>Made from 12-Gauge steel</td>\n    </tr>\n  </tbody>\n</table>\n</div>"
                    }, 
                    "execution_count": 9, 
                    "metadata": {}
                }
            ], 
            "execution_count": 9
        }, 
        {
            "source": "\nbody = client_8b848afc4ad24531bd548279cdd15bdc.get_object(Bucket='thdproject-donotdelete-pr-cdoiv6lu8uixfh',Key='product_descriptions.csv')['Body']\n# add missing __iter__ method, so pandas accepts body as file-like object\nif not hasattr(body, \"__iter__\"): body.__iter__ = types.MethodType( __iter__, body )\n\ndescriptions = pd.read_csv(body)\ndescriptions.head()\n\n", 
            "cell_type": "code", 
            "metadata": {}, 
            "outputs": [
                {
                    "output_type": "execute_result", 
                    "data": {
                        "text/plain": "   product_uid                                product_description\n0       100001  Not only do angles make joints stronger, they ...\n1       100002  BEHR Premium Textured DECKOVER is an innovativ...\n2       100003  Classic architecture meets contemporary design...\n3       100004  The Grape Solar 265-Watt Polycrystalline PV So...\n4       100005  Update your bathroom with the Delta Vero Singl...", 
                        "text/html": "<div>\n<style scoped>\n    .dataframe tbody tr th:only-of-type {\n        vertical-align: middle;\n    }\n\n    .dataframe tbody tr th {\n        vertical-align: top;\n    }\n\n    .dataframe thead th {\n        text-align: right;\n    }\n</style>\n<table border=\"1\" class=\"dataframe\">\n  <thead>\n    <tr style=\"text-align: right;\">\n      <th></th>\n      <th>product_uid</th>\n      <th>product_description</th>\n    </tr>\n  </thead>\n  <tbody>\n    <tr>\n      <th>0</th>\n      <td>100001</td>\n      <td>Not only do angles make joints stronger, they ...</td>\n    </tr>\n    <tr>\n      <th>1</th>\n      <td>100002</td>\n      <td>BEHR Premium Textured DECKOVER is an innovativ...</td>\n    </tr>\n    <tr>\n      <th>2</th>\n      <td>100003</td>\n      <td>Classic architecture meets contemporary design...</td>\n    </tr>\n    <tr>\n      <th>3</th>\n      <td>100004</td>\n      <td>The Grape Solar 265-Watt Polycrystalline PV So...</td>\n    </tr>\n    <tr>\n      <th>4</th>\n      <td>100005</td>\n      <td>Update your bathroom with the Delta Vero Singl...</td>\n    </tr>\n  </tbody>\n</table>\n</div>"
                    }, 
                    "execution_count": 10, 
                    "metadata": {}
                }
            ], 
            "execution_count": 10
        }, 
        {
            "source": "columns = attributes['name'].unique()", 
            "cell_type": "code", 
            "metadata": {}, 
            "outputs": [], 
            "execution_count": 11
        }, 
        {
            "source": "df = pd.DataFrame(columns=columns)", 
            "cell_type": "code", 
            "metadata": {}, 
            "outputs": [], 
            "execution_count": null
        }
    ], 
    "metadata": {
        "kernelspec": {
            "display_name": "Python 3.5", 
            "name": "python3", 
            "language": "python"
        }, 
        "language_info": {
            "mimetype": "text/x-python", 
            "nbconvert_exporter": "python", 
            "version": "3.5.5", 
            "name": "python", 
            "pygments_lexer": "ipython3", 
            "file_extension": ".py", 
            "codemirror_mode": {
                "version": 3, 
                "name": "ipython"
            }
        }
    }, 
    "nbformat": 4
}